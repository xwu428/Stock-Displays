{
 "cells": [
  {
   "cell_type": "code",
   "execution_count": 1,
   "id": "b5d169ba-457d-4823-9590-96db8870a391",
   "metadata": {},
   "outputs": [
    {
     "name": "stdout",
     "output_type": "stream",
     "text": [
      "[*********************100%***********************]  1 of 1 completed\n",
      "[*********************100%***********************]  1 of 1 completed\n",
      "[*********************100%***********************]  1 of 1 completed\n",
      "[*********************100%***********************]  1 of 1 completed\n",
      "[*********************100%***********************]  1 of 1 completed\n",
      "[*********************100%***********************]  1 of 1 completed\n",
      "[*********************100%***********************]  1 of 1 completed\n",
      "[*********************100%***********************]  1 of 1 completed\n",
      "[*********************100%***********************]  1 of 1 completed\n",
      "[*********************100%***********************]  1 of 1 completed\n",
      "[*********************100%***********************]  1 of 1 completed\n",
      "[*********************100%***********************]  1 of 1 completed\n",
      "[*********************100%***********************]  1 of 1 completed\n",
      "[*********************100%***********************]  1 of 1 completed\n",
      "[*********************100%***********************]  1 of 1 completed\n",
      "[*********************100%***********************]  1 of 1 completed\n",
      "[*********************100%***********************]  1 of 1 completed\n"
     ]
    },
    {
     "data": {
      "text/plain": [
       "17"
      ]
     },
     "execution_count": 1,
     "metadata": {},
     "output_type": "execute_result"
    }
   ],
   "source": [
    "import pandas as pd\n",
    "import yfinance as yf\n",
    "\n",
    "def get_price_change_direction(tickers):\n",
    "    data = {}\n",
    "    for ticker in tickers:\n",
    "        stock_data = yf.download(ticker, start=\"2019-01-01\")\n",
    "        stock_data['Price Change'] = stock_data['Adj Close'].diff()\n",
    "        stock_data['Direction'] = ''\n",
    "        stock_data.loc[stock_data['Price Change'] > 0, 'Direction'] = int('1')\n",
    "        stock_data.loc[stock_data['Price Change'] == 0, 'Direction'] = int('1')\n",
    "        stock_data.loc[stock_data['Price Change'] < 0, 'Direction'] = int('0')\n",
    "        stock_data = stock_data.dropna(subset=['Direction'])\n",
    "        data[ticker] = stock_data['Direction']\n",
    "    return pd.DataFrame(data).sort_index(ascending=False)\n",
    "\n",
    "def write_to_excel(tickers):\n",
    "    data = get_price_change_direction(tickers)\n",
    "    writer = pd.ExcelWriter('tech.xlsx', engine='xlsxwriter')\n",
    "    data.to_excel(writer, index=False)\n",
    "    writer.save()\n",
    "\n",
    "# Example usage:\n",
    "Tickers = ['SQQQ', 'TSLA','META','GOOG','AMZN','AAPL','NVDA','NFLX','SHOP','PLTR','ADBE','U','UBER','AMD','SQ','BABA','BIDU']\n",
    "write_to_excel(Tickers)\n",
    "len(Tickers)"
   ]
  }
 ],
 "metadata": {
  "kernelspec": {
   "display_name": "Python 3 (ipykernel)",
   "language": "python",
   "name": "python3"
  },
  "language_info": {
   "codemirror_mode": {
    "name": "ipython",
    "version": 3
   },
   "file_extension": ".py",
   "mimetype": "text/x-python",
   "name": "python",
   "nbconvert_exporter": "python",
   "pygments_lexer": "ipython3",
   "version": "3.9.12"
  }
 },
 "nbformat": 4,
 "nbformat_minor": 5
}
